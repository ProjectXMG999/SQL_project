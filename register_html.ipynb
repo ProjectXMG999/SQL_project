{
  "nbformat": 4,
  "nbformat_minor": 0,
  "metadata": {
    "colab": {
      "provenance": [],
      "authorship_tag": "ABX9TyOR5MVxEwTnEj2XMO/Fp+u8",
      "include_colab_link": true
    },
    "kernelspec": {
      "name": "python3",
      "display_name": "Python 3"
    },
    "language_info": {
      "name": "python"
    }
  },
  "cells": [
    {
      "cell_type": "markdown",
      "metadata": {
        "id": "view-in-github",
        "colab_type": "text"
      },
      "source": [
        "<a href=\"https://colab.research.google.com/github/ProjectXMG999/SQL_project/blob/main/register_html.ipynb\" target=\"_parent\"><img src=\"https://colab.research.google.com/assets/colab-badge.svg\" alt=\"Open In Colab\"/></a>"
      ]
    },
    {
      "cell_type": "code",
      "execution_count": null,
      "metadata": {
        "id": "zB5hKUEtA8fw"
      },
      "outputs": [],
      "source": [
        "<!DOCTYPE html>\n",
        "<html>\n",
        "<head>\n",
        "    <title>Register</title>\n",
        "</head>\n",
        "<body>\n",
        "    <h1>Register</h1>\n",
        "    {% if error %}\n",
        "    <p style=\"color: red;\">{{ error }}</p>\n",
        "    {% endif %}\n",
        "    <form action=\"{{ url_for('register') }}\" method=\"post\">\n",
        "        <label for=\"name\">Name:</label>\n",
        "        <input type=\"text\" name=\"name\" required>\n",
        "        <br>\n",
        "        <label for=\"email\">Email:</label>\n",
        "        <input type=\"email\" name=\"email\" required>\n",
        "        <br>\n",
        "        <label for=\"password\">Password:</label>\n",
        "        <input type=\"password\" name=\"password\" required>\n",
        "        <br>\n",
        "        <button type=\"submit\">Register</button>\n",
        "    </form>\n",
        "</body>\n",
        "</html>\n"
      ]
    }
  ]
}