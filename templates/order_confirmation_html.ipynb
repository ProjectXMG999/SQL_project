{
  "nbformat": 4,
  "nbformat_minor": 0,
  "metadata": {
    "colab": {
      "provenance": [],
      "authorship_tag": "ABX9TyOZrRB9kCmvtRXqfufCZ3Tb",
      "include_colab_link": true
    },
    "kernelspec": {
      "name": "python3",
      "display_name": "Python 3"
    },
    "language_info": {
      "name": "python"
    }
  },
  "cells": [
    {
      "cell_type": "markdown",
      "metadata": {
        "id": "view-in-github",
        "colab_type": "text"
      },
      "source": [
        "<a href=\"https://colab.research.google.com/github/ProjectXMG999/SQL_project/blob/main/templates/order_confirmation_html.ipynb\" target=\"_parent\"><img src=\"https://colab.research.google.com/assets/colab-badge.svg\" alt=\"Open In Colab\"/></a>"
      ]
    },
    {
      "cell_type": "code",
      "execution_count": null,
      "metadata": {
        "id": "zB5hKUEtA8fw"
      },
      "outputs": [],
      "source": [
        "<!DOCTYPE>\n",
        "<html>\n",
        "<head>\n",
        "    <title>Order Confirmation</title>\n",
        "</head>\n",
        "<body>\n",
        "    <h1>Order Confirmation</h1>\n",
        "    <p>Thank you for your order!</p>\n",
        "    <pOrder ID: {{ order[0] }}</p>\n",
        "    <table>\n",
        "        <thead>\n",
        "            <tr>\n",
        "                <th>Product</th>\n",
        "                <th>Price</th>\n",
        "                <th>Quantity</th>\n",
        "                <th>Total</th>\n",
        "            </tr>\n",
        "        </thead>\n",
        "        <tbody>\n",
        "            {% for order_item in order_items %}\n",
        "            <tr>\n",
        "                <td>{{ products[loop.index0][1] }}</td>\n",
        "                <td>${{ products[loop.index0][3] }}</td>\n",
        "                <td>{{ order_item[3] }}</td>\n",
        "                <td>${{ products[loop.index0][3] * order_item[3] }}</td>\n",
        "            </tr>\n",
        "            {% endfor %}\n",
        "        </tbody>\n",
        "        <tfoot>\n",
        "            <tr>\n",
        "                <td colspan=\"3\">Total:</td>\n",
        "                <td>${{ order[2] }}</td>\n",
        "            </tr>\n",
        "        </tfoot>\n",
        "    </table>\n",
        "</body>\n",
        "</html>\n",
        "\n"
      ]
    }
  ]
}