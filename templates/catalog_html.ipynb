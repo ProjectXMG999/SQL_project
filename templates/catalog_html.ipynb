{
  "nbformat": 4,
  "nbformat_minor": 0,
  "metadata": {
    "colab": {
      "provenance": [],
      "authorship_tag": "ABX9TyNSw1dBklobv8Q5Y8udpSzd",
      "include_colab_link": true
    },
    "kernelspec": {
      "name": "python3",
      "display_name": "Python 3"
    },
    "language_info": {
      "name": "python"
    }
  },
  "cells": [
    {
      "cell_type": "markdown",
      "metadata": {
        "id": "view-in-github",
        "colab_type": "text"
      },
      "source": [
        "<a href=\"https://colab.research.google.com/github/ProjectXMG999/SQL_project/blob/main/templates/catalog_html.ipynb\" target=\"_parent\"><img src=\"https://colab.research.google.com/assets/colab-badge.svg\" alt=\"Open In Colab\"/></a>"
      ]
    },
    {
      "cell_type": "code",
      "execution_count": null,
      "metadata": {
        "id": "zB5hKUEtA8fw"
      },
      "outputs": [],
      "source": [
        "<!DOCTYPE html>\n",
        "<html>\n",
        "<head>\n",
        "    <title>Product Catalog</title>\n",
        "</head>\n",
        "<body>\n",
        "    <h1>Product Catalog</h1>\n",
        "    <ul>\n",
        "        {% for category in categories %}\n",
        "        <li><a href=\"#\">{{ category[1] }}</a></li>\n",
        "        {% endfor %}\n",
        "    </ul>\n",
        "    {% for category in categories %}\n",
        "    <h2>{{ category[1] }}</h2>\n",
        "    <ul>\n",
        "        {% for product in products %}\n",
        "        {% if product[2] == category[0] %}\n",
        "        <li>\n",
        "            <h3>{{ product[1] }}</h3>\n",
        "            <p>{{ product[4] }}</p>\n",
        "            <p>${{ product[3] }}</p>\n",
        "            <form action=\"{{ url_for('cart') }}\" method=\"post\">\n",
        "                <input type=\"hidden\" name=\"product_id\" value=\"{{ product[0] }}\">\n",
        "                <label for=\"quantity\">Quantity:</label>\n",
        "                <input type=\"number\" name=\"quantity\" value=\"1\" min=\"1\">\n",
        "                <button type=\"submit\">Add to Cart</button>\n",
        "            </form>\n",
        "        </li>\n",
        "        {% endif %}\n",
        "        {% endfor %}\n",
        "    </ul>\n",
        "    {% endfor %}\n",
        "</body>\n",
        "</html>\n"
      ]
    }
  ]
}