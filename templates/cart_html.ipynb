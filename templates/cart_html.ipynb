{
  "nbformat": 4,
  "nbformat_minor": 0,
  "metadata": {
    "colab": {
      "provenance": [],
      "authorship_tag": "ABX9TyMkh0QuhmiSQ39ACvWE1DVu",
      "include_colab_link": true
    },
    "kernelspec": {
      "name": "python3",
      "display_name": "Python 3"
    },
    "language_info": {
      "name": "python"
    }
  },
  "cells": [
    {
      "cell_type": "markdown",
      "metadata": {
        "id": "view-in-github",
        "colab_type": "text"
      },
      "source": [
        "<a href=\"https://colab.research.google.com/github/ProjectXMG999/SQL_project/blob/main/templates/cart_html.ipynb\" target=\"_parent\"><img src=\"https://colab.research.google.com/assets/colab-badge.svg\" alt=\"Open In Colab\"/></a>"
      ]
    },
    {
      "cell_type": "code",
      "execution_count": null,
      "metadata": {
        "id": "zB5hKUEtA8fw"
      },
      "outputs": [],
      "source": [
        "<!DOCTYPE html>\n",
        "<html>\n",
        "<head>\n",
        "    <title>Shopping Cart</title>\n",
        "</head>\n",
        "<body>\n",
        "    <h1>Shopping Cart</h1>\n",
        "    <table>\n",
        "        <thead>\n",
        "            <tr>\n",
        "                <th>Product</th>\n",
        "                <th>Price</th>\n",
        "                <th>Quantity</th>\n",
        "                <th>Total</th>\n",
        "            </tr>\n",
        "        </thead>\n",
        "        <tbody>\n",
        "            {% for cart_item in cart_items %}\n",
        "            <tr>\n",
        "                <td>{{ products[loop.index0][1] }}</td>\n",
        "                <td>${{ products[loop.index0][3] }}</td>\n",
        "                <td>{{ cart_item[3] }}</td>\n",
        "                <td>${{ products[loop.index0][3] * cart_item[3] }}</td>\n",
        "            </tr>\n",
        "            {% endfor %}\n",
        "        </tbody>\n",
        "        <tfoot>\n",
        "            <tr>\n",
        "                <td colspan=\"3\">Total:</td>\n",
        "                <td>${{ total_price }}</td>\n",
        "            </tr>\n",
        "        </tfoot>\n",
        "    </table>\n",
        "    <form action=\"{{ url_for('checkout') }}\" method=\"post\">\n",
        "        <input type=\"hidden\" name=\"total_price\" value=\"{{ total_price }}\">\n",
        "        <script src=\"https://checkout.stripe.com/checkout.js\" class=\"stripe-button\"\n",
        "                data-key=\"stripe_publishable_key\"\n",
        "                data-amount=\"{{ total_price * 100 }}\"\n",
        "                data-name=\"E-commerce\"\n",
        "                data-description=\"Shopping Cart\"\n",
        "                data-image=\"https://stripe.com/img/documentation/checkout/marketplace.png\"\n",
        "                data-locale=\"auto\"\n",
        "                data-currency=\"usd\">\n",
        "        </script>\n",
        "    </form>\n",
        "</body>\n",
        "</html>\n",
        "\n"
      ]
    }
  ]
}